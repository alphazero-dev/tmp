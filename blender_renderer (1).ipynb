{
  "cells": [
    {
      "cell_type": "markdown",
      "metadata": {
        "id": "6EYxUEsyGlkw"
      },
      "source": [
        "# Setup\n",
        "**Make sure to read the instructions carefully!**\n",
        "\n",
        "If you have other resources used in the Blender project and chose to *make all paths relative*, pack all of them into a zip archive. Alternatively, you can *pack all external file*.\n",
        "\n",
        "* `blender_version` : Version of blender used to render the scene.\n",
        "* `blend_file_path` : Path to the blend file after unpacking the zip archive. If blend file is used, this is automatically ignored.\n",
        "___\n",
        "* `upload_type` : Select the type of upload method. `gdrive_relative` pulls everything from the folder specified.\n",
        "* `drive_path` : Path to your blend/zip file relative to the root of your Google Drive if `google_drive` is selected. Must  state the file and its extension (.zip/.blend) **unless** `gdrive_relative` is selected.\n",
        "* `url_blend` : Specify the URL to the blend/zip file if `url` is selected.\n",
        "___\n",
        "* `animation` : Specify whether animation or still image is rendered. If **still image** is used, put the frame number in `start_frame`.\n",
        "* `start_frame, end_frame` : Specify the start and end frame for animation. You may put same value such as zero for both input to set the default frame in the blend file.\n",
        "___\n",
        "* `download_type` : Select the type of download method. `gdrive_direct` enables the frames to be outputted directly to Google Drive (zipping will be disabled).\n",
        "* `output_name` : Name of the output frames, **do NOT include .blend!** (## for frame number)\n",
        "* `zip_files` : Archive multiple animation frames automatically into a zip file.\n",
        "* `drive_output_path` : Path to your frames/zip file in Google Drive.\n",
        "___\n",
        "* `gpu_enabled, cpu_enabled` : Toggle GPU and CPU for rendering. CPU might give a slight boost in rendering time but may varies depend on the project.\n",
        "* `optix_enable` : Enable OptiX which may boost performance, may be incompatible depending on the version of blender, project and GPU allocated\n",
        "\n",
        "After you are done, go to Runtime > Run All (Ctrl + F9) and upload your files or have Google Drive authorised below. See the [GitHub repo](https://github.com/syn73/blender-colab) for more information."
      ]
    },
    {
      "cell_type": "code",
      "execution_count": 11,
      "metadata": {
        "id": "8dFNjYGTgNjR"
      },
      "outputs": [],
      "source": [
        "blender_version = '4.0.2' #@param ['2.79b', '2.83.20', '2.93.18', '3.3.15', '3.6.8', '4.0.2'] {allow-input: false}\n",
        "blend_file_path = 'core-bedroom-animation.blend' #@param {type: 'string'}\n",
        "#@markdown ---\n",
        "upload_type = 'url' #@param ['direct', 'google_drive', 'url', 'gdrive_relative'] {allow-input: false}\n",
        "drive_path = '' #@param {type: 'string'}\n",
        "url_blend = 'https://github.com/stoltz-dev/tmp/raw/main/core-bedroom-animation.blend' #@param {type: 'string'}\n",
        "#@markdown ---\n",
        "animation = True #@param {type: 'boolean'}\n",
        "start_frame =  109#@param {type: 'integer'}\n",
        "end_frame =  250#@param {type: 'integer'}\n",
        "#@markdown ---\n",
        "download_type = 'gdrive_direct' #@param ['direct', 'google_drive', 'gdrive_direct'] {allow-input: false}\n",
        "output_name = 'blender-##' #@param {type: 'string'}\n",
        "zip_files = False #@param {type: 'boolean'}\n",
        "drive_output_path = 'blender/core/core-bedroom-animation/output' #@param {type: 'string'}\n",
        "#@markdown ---\n",
        "gpu_enabled = True #@param {type:\"boolean\"}\n",
        "optix_enabled = True #@param {type:\"boolean\"}\n",
        "cpu_enabled = False #@param {type:\"boolean\"}"
      ]
    },
    {
      "cell_type": "code",
      "execution_count": 2,
      "metadata": {
        "colab": {
          "base_uri": "https://localhost:8080/"
        },
        "id": "XQ0cynSzSYDd",
        "outputId": "054f3a54-04ad-4f3b-9e4c-0f6c37961035"
      },
      "outputs": [
        {
          "output_type": "stream",
          "name": "stdout",
          "text": [
            "/content\n",
            "Current GPU: Tesla T4\n"
          ]
        }
      ],
      "source": [
        "%cd /content\n",
        "\n",
        "gpu = !nvidia-smi --query-gpu=gpu_name --format=csv,noheader\n",
        "print(\"Current GPU: \" + gpu[0])\n",
        "\n",
        "if gpu[0] == \"Tesla K80\" and optix_enabled:\n",
        "  print(\"OptiX disabled because of unsupported GPU\")\n",
        "  optix_enabled = False"
      ]
    },
    {
      "cell_type": "code",
      "execution_count": 3,
      "metadata": {
        "colab": {
          "base_uri": "https://localhost:8080/"
        },
        "id": "pQboAtzI0Zc8",
        "outputId": "e7c7ee56-7f7d-4887-b4ae-596f79ab6877"
      },
      "outputs": [
        {
          "output_type": "stream",
          "name": "stdout",
          "text": [
            "Reading package lists... Done\n",
            "Building dependency tree... Done\n",
            "Reading state information... Done\n",
            "The following packages will be REMOVED:\n",
            "  google-perftools libgoogle-perftools4 libtcmalloc-minimal4\n",
            "0 upgraded, 0 newly installed, 3 to remove and 35 not upgraded.\n",
            "After this operation, 1,817 kB disk space will be freed.\n",
            "(Reading database ... 121749 files and directories currently installed.)\n",
            "Removing google-perftools (2.9.1-0ubuntu3) ...\n",
            "Removing libgoogle-perftools4:amd64 (2.9.1-0ubuntu3) ...\n",
            "Removing libtcmalloc-minimal4:amd64 (2.9.1-0ubuntu3) ...\n",
            "Processing triggers for man-db (2.10.2-1) ...\n",
            "Processing triggers for libc-bin (2.35-0ubuntu3.4) ...\n",
            "/sbin/ldconfig.real: /usr/local/lib/libtbb.so.12 is not a symbolic link\n",
            "\n",
            "/sbin/ldconfig.real: /usr/local/lib/libtbbmalloc_proxy.so.2 is not a symbolic link\n",
            "\n",
            "/sbin/ldconfig.real: /usr/local/lib/libtbbbind.so.3 is not a symbolic link\n",
            "\n",
            "/sbin/ldconfig.real: /usr/local/lib/libtbbbind_2_0.so.3 is not a symbolic link\n",
            "\n",
            "/sbin/ldconfig.real: /usr/local/lib/libtbbbind_2_5.so.3 is not a symbolic link\n",
            "\n",
            "/sbin/ldconfig.real: /usr/local/lib/libtbbmalloc.so.2 is not a symbolic link\n",
            "\n",
            "Reading package lists... Done\n",
            "Building dependency tree... Done\n",
            "Reading state information... Done\n",
            "The following NEW packages will be installed:\n",
            "  libtcmalloc-minimal4\n",
            "0 upgraded, 1 newly installed, 0 to remove and 35 not upgraded.\n",
            "Need to get 98.2 kB of archives.\n",
            "After this operation, 382 kB of additional disk space will be used.\n",
            "Get:1 http://archive.ubuntu.com/ubuntu jammy/main amd64 libtcmalloc-minimal4 amd64 2.9.1-0ubuntu3 [98.2 kB]\n",
            "Fetched 98.2 kB in 0s (208 kB/s)\n",
            "Selecting previously unselected package libtcmalloc-minimal4:amd64.\n",
            "(Reading database ... 121724 files and directories currently installed.)\n",
            "Preparing to unpack .../libtcmalloc-minimal4_2.9.1-0ubuntu3_amd64.deb ...\n",
            "Unpacking libtcmalloc-minimal4:amd64 (2.9.1-0ubuntu3) ...\n",
            "Setting up libtcmalloc-minimal4:amd64 (2.9.1-0ubuntu3) ...\n",
            "Processing triggers for libc-bin (2.35-0ubuntu3.4) ...\n",
            "/sbin/ldconfig.real: /usr/local/lib/libtbb.so.12 is not a symbolic link\n",
            "\n",
            "/sbin/ldconfig.real: /usr/local/lib/libtbbmalloc_proxy.so.2 is not a symbolic link\n",
            "\n",
            "/sbin/ldconfig.real: /usr/local/lib/libtbbbind.so.3 is not a symbolic link\n",
            "\n",
            "/sbin/ldconfig.real: /usr/local/lib/libtbbbind_2_0.so.3 is not a symbolic link\n",
            "\n",
            "/sbin/ldconfig.real: /usr/local/lib/libtbbbind_2_5.so.3 is not a symbolic link\n",
            "\n",
            "/sbin/ldconfig.real: /usr/local/lib/libtbbmalloc.so.2 is not a symbolic link\n",
            "\n"
          ]
        }
      ],
      "source": [
        "import os\n",
        "\n",
        "os.environ[\"LD_PRELOAD\"] = \"\"\n",
        "\n",
        "!apt remove libtcmalloc-minimal4\n",
        "!apt install libtcmalloc-minimal4\n",
        "\n",
        "os.environ[\"LD_PRELOAD\"] = \"/usr/lib/x86_64-linux-gnu/libtcmalloc_minimal.so.4.3.0\""
      ]
    },
    {
      "cell_type": "code",
      "execution_count": 4,
      "metadata": {
        "colab": {
          "base_uri": "https://localhost:8080/"
        },
        "id": "QRzNmiHN8Xr0",
        "outputId": "e281294a-66df-4554-ca88-9be0b017279c"
      },
      "outputs": [
        {
          "output_type": "stream",
          "name": "stdout",
          "text": [
            "Mounted at /drive\n",
            "ERROR: ld.so: object '/usr/lib/x86_64-linux-gnu/libtcmalloc_minimal.so.4.3.0' from LD_PRELOAD cannot be preloaded (cannot open shared object file): ignored.\n",
            "ERROR: ld.so: object '/usr/lib/x86_64-linux-gnu/libtcmalloc_minimal.so.4.3.0' from LD_PRELOAD cannot be preloaded (cannot open shared object file): ignored.\n",
            "--2024-03-11 16:09:01--  https://github.com/stoltz-dev/tmp/raw/main/core-bedroom-animation.blend\n",
            "Resolving github.com (github.com)... 140.82.114.4\n",
            "Connecting to github.com (github.com)|140.82.114.4|:443... connected.\n",
            "HTTP request sent, awaiting response... 301 Moved Permanently\n",
            "Location: https://github.com/polarfreez/tmp/raw/main/core-bedroom-animation.blend [following]\n",
            "--2024-03-11 16:09:01--  https://github.com/polarfreez/tmp/raw/main/core-bedroom-animation.blend\n",
            "Reusing existing connection to github.com:443.\n",
            "HTTP request sent, awaiting response... 302 Found\n",
            "Location: https://raw.githubusercontent.com/polarfreez/tmp/main/core-bedroom-animation.blend [following]\n",
            "--2024-03-11 16:09:01--  https://raw.githubusercontent.com/polarfreez/tmp/main/core-bedroom-animation.blend\n",
            "Resolving raw.githubusercontent.com (raw.githubusercontent.com)... 185.199.108.133, 185.199.109.133, 185.199.110.133, ...\n",
            "Connecting to raw.githubusercontent.com (raw.githubusercontent.com)|185.199.108.133|:443... connected.\n",
            "HTTP request sent, awaiting response... 200 OK\n",
            "Length: 7964919 (7.6M) [application/octet-stream]\n",
            "Saving to: ‘core-bedroom-animation.blend’\n",
            "\n",
            "core-bedroom-animat 100%[===================>]   7.60M  --.-KB/s    in 0.05s   \n",
            "\n",
            "2024-03-11 16:09:02 (163 MB/s) - ‘core-bedroom-animation.blend’ saved [7964919/7964919]\n",
            "\n"
          ]
        }
      ],
      "source": [
        "import shutil\n",
        "from google.colab import files, drive\n",
        "uploaded_filename = \"\"\n",
        "\n",
        "if upload_type == 'google_drive' or upload_type == 'gdrive_relative' or download_type == 'google_drive' or download_type == 'gdrive_direct':\n",
        "    drive.mount('/drive')\n",
        "\n",
        "if upload_type == 'direct':\n",
        "    uploaded = files.upload()\n",
        "    for fn in uploaded.keys():\n",
        "        uploaded_filename = fn\n",
        "elif upload_type == 'url':\n",
        "    !wget -nc $url_blend\n",
        "    uploaded_filename = os.path.basename(url_blend)\n",
        "elif upload_type == 'google_drive':\n",
        "    shutil.copy('/drive/My Drive/' + drive_path, '.')\n",
        "    uploaded_filename = os.path.basename(drive_path)"
      ]
    },
    {
      "cell_type": "code",
      "execution_count": 5,
      "metadata": {
        "colab": {
          "base_uri": "https://localhost:8080/"
        },
        "id": "KowqWtLzgSLw",
        "outputId": "5b4d3a9c-3f89-4619-b79f-933ff73de432"
      },
      "outputs": [
        {
          "output_type": "stream",
          "name": "stdout",
          "text": [
            "ERROR: ld.so: object '/usr/lib/x86_64-linux-gnu/libtcmalloc_minimal.so.4.3.0' from LD_PRELOAD cannot be preloaded (cannot open shared object file): ignored.\n",
            "ERROR: ld.so: object '/usr/lib/x86_64-linux-gnu/libtcmalloc_minimal.so.4.3.0' from LD_PRELOAD cannot be preloaded (cannot open shared object file): ignored.\n",
            "rm: cannot remove 'render': No such file or directory\n",
            "ERROR: ld.so: object '/usr/lib/x86_64-linux-gnu/libtcmalloc_minimal.so.4.3.0' from LD_PRELOAD cannot be preloaded (cannot open shared object file): ignored.\n",
            "ERROR: ld.so: object '/usr/lib/x86_64-linux-gnu/libtcmalloc_minimal.so.4.3.0' from LD_PRELOAD cannot be preloaded (cannot open shared object file): ignored.\n"
          ]
        }
      ],
      "source": [
        "!rm -r render\n",
        "!mkdir render\n",
        "\n",
        "if upload_type == 'gdrive_relative':\n",
        "    if not drive_path.endswith('/'):\n",
        "        drive_path += '/'\n",
        "    !cp -r '/drive/My Drive/{drive_path}.' 'render/'\n",
        "elif uploaded_filename.lower().endswith('.zip'):\n",
        "    !unzip -o $uploaded_filename -d 'render/'\n",
        "elif uploaded_filename.lower().endswith('.blend'):\n",
        "    shutil.copy(uploaded_filename, 'render/')\n",
        "    blend_file_path = uploaded_filename\n",
        "else:\n",
        "    raise SystemExit(\"Invalid file extension, only .blend and .zip can be uploaded.\")"
      ]
    },
    {
      "cell_type": "code",
      "execution_count": 6,
      "metadata": {
        "colab": {
          "base_uri": "https://localhost:8080/"
        },
        "id": "GPJ9fmoB6PWM",
        "outputId": "cbdf1d6e-6881-46c4-8dea-d078423d6f68"
      },
      "outputs": [
        {
          "output_type": "stream",
          "name": "stdout",
          "text": [
            "ERROR: ld.so: object '/usr/lib/x86_64-linux-gnu/libtcmalloc_minimal.so.4.3.0' from LD_PRELOAD cannot be preloaded (cannot open shared object file): ignored.\n",
            "ERROR: ld.so: object '/usr/lib/x86_64-linux-gnu/libtcmalloc_minimal.so.4.3.0' from LD_PRELOAD cannot be preloaded (cannot open shared object file): ignored.\n",
            "ERROR: ld.so: object '/usr/lib/x86_64-linux-gnu/libtcmalloc_minimal.so.4.3.0' from LD_PRELOAD cannot be preloaded (cannot open shared object file): ignored.\n",
            "ERROR: ld.so: object '/usr/lib/x86_64-linux-gnu/libtcmalloc_minimal.so.4.3.0' from LD_PRELOAD cannot be preloaded (cannot open shared object file): ignored.\n",
            "--2024-03-11 16:09:02--  https://ftp.nluug.nl/pub/graphics/blender/release/Blender4.0/blender-4.0.2-linux-x64.tar.xz\n",
            "Resolving ftp.nluug.nl (ftp.nluug.nl)... 145.220.21.40, 2001:67c:6ec:221:145:220:21:40\n",
            "Connecting to ftp.nluug.nl (ftp.nluug.nl)|145.220.21.40|:443... connected.\n",
            "HTTP request sent, awaiting response... 200 OK\n",
            "Length: 277588768 (265M) [application/x-tar]\n",
            "Saving to: ‘blender-4.0.2-linux-x64.tar.xz’\n",
            "\n",
            "blender-4.0.2-linux 100%[===================>] 264.73M  20.4MB/s    in 22s     \n",
            "\n",
            "2024-03-11 16:09:25 (11.9 MB/s) - ‘blender-4.0.2-linux-x64.tar.xz’ saved [277588768/277588768]\n",
            "\n",
            "ERROR: ld.so: object '/usr/lib/x86_64-linux-gnu/libtcmalloc_minimal.so.4.3.0' from LD_PRELOAD cannot be preloaded (cannot open shared object file): ignored.\n",
            "ERROR: ld.so: object '/usr/lib/x86_64-linux-gnu/libtcmalloc_minimal.so.4.3.0' from LD_PRELOAD cannot be preloaded (cannot open shared object file): ignored.\n",
            "ERROR: ld.so: object '/usr/lib/x86_64-linux-gnu/libtcmalloc_minimal.so.4.3.0' from LD_PRELOAD cannot be preloaded (cannot open shared object file): ignored.\n"
          ]
        }
      ],
      "source": [
        "# To add your own new version, go to https://ftp.nluug.nl/pub/graphics/blender/release\n",
        "# and copy the URL of the desired version linux-x64 tar archive\n",
        "# Then, edit or add the version below and also at the version selection at the top\n",
        "blender_url_dict = {'2.79b'   : \"https://ftp.nluug.nl/pub/graphics/blender/release/Blender2.79/blender-2.79b-linux-glibc219-x86_64.tar.bz2\",\n",
        "                    '2.83.20' : \"https://ftp.nluug.nl/pub/graphics/blender/release/Blender2.83/blender-2.83.20-linux-x64.tar.xz\",\n",
        "                    '2.93.18' : \"https://ftp.nluug.nl/pub/graphics/blender/release/Blender2.93/blender-2.93.18-linux-x64.tar.xz\",\n",
        "                    '3.3.15'  : \"https://ftp.nluug.nl/pub/graphics/blender/release/Blender3.3/blender-3.3.15-linux-x64.tar.xz\",\n",
        "                    '3.6.8'   : \"https://ftp.nluug.nl/pub/graphics/blender/release/Blender3.6/blender-3.6.8-linux-x64.tar.xz\",\n",
        "                    '4.0.2'   : \"https://ftp.nluug.nl/pub/graphics/blender/release/Blender4.0/blender-4.0.2-linux-x64.tar.xz\"}\n",
        "\n",
        "blender_url = blender_url_dict[blender_version]\n",
        "base_url = os.path.basename(blender_url)\n",
        "\n",
        "!mkdir $blender_version\n",
        "!wget -nc $blender_url\n",
        "!tar -xkf $base_url -C ./$blender_version --strip-components=1"
      ]
    },
    {
      "cell_type": "code",
      "execution_count": 7,
      "metadata": {
        "colab": {
          "base_uri": "https://localhost:8080/"
        },
        "id": "6elYiQrvkUAe",
        "outputId": "c3456be7-abaa-4c9f-cbb0-f4096d1e96f8"
      },
      "outputs": [
        {
          "output_type": "stream",
          "name": "stdout",
          "text": [
            "Note: You're currently using OptiX renderer. If an error occurred, the current GPU (example: Tesla K80) is not supported and you need to switch back to Cycles.\n"
          ]
        }
      ],
      "source": [
        "# Enable GPU rendering (or add custom properties here)\n",
        "data = \"import re\\n\"+\\\n",
        "    \"import bpy\\n\"+\\\n",
        "    \"scene = bpy.context.scene\\n\"+\\\n",
        "    \"scene.cycles.device = 'GPU'\\n\"+\\\n",
        "    \"prefs = bpy.context.preferences\\n\"+\\\n",
        "    \"prefs.addons['cycles'].preferences.get_devices()\\n\"+\\\n",
        "    \"cprefs = prefs.addons['cycles'].preferences\\n\"+\\\n",
        "    \"print(cprefs)\\n\"+\\\n",
        "    \"for compute_device_type in ('CUDA', 'OPENCL', 'NONE'):\\n\"+\\\n",
        "    \"    try:\\n\"+\\\n",
        "    \"        cprefs.compute_device_type = compute_device_type\\n\"+\\\n",
        "    \"        print('Device found:',compute_device_type)\\n\"+\\\n",
        "    \"        break\\n\"+\\\n",
        "    \"    except TypeError:\\n\"+\\\n",
        "    \"        pass\\n\"+\\\n",
        "    \"for device in cprefs.devices:\\n\"+\\\n",
        "    \"    if not re.match('intel', device.name, re.I):\\n\"+\\\n",
        "    \"        print('Activating',device)\\n\"+\\\n",
        "    \"        device.use = \"+str(gpu_enabled)+\"\\n\"+\\\n",
        "    \"    else:\\n\"+\\\n",
        "    \"        device.use = \"+str(cpu_enabled)+\"\\n\"\n",
        "with open('setgpu.py', 'w') as f:\n",
        "    f.write(data)\n",
        "\n",
        "renderer = \"CUDA\"\n",
        "if optix_enabled:\n",
        "    print(\"Note: You're currently using OptiX renderer. If an error occurred, the current GPU (example: Tesla K80) is not supported and you need to switch back to Cycles.\")\n",
        "    renderer = \"OPTIX\""
      ]
    },
    {
      "cell_type": "code",
      "execution_count": 12,
      "metadata": {
        "id": "Fpk2w3yM8XqQ",
        "outputId": "dbffbd91-cf28-45a6-bdf0-a496a4c8c6f6",
        "colab": {
          "base_uri": "https://localhost:8080/"
        }
      },
      "outputs": [
        {
          "output_type": "stream",
          "name": "stdout",
          "text": [
            "/content\n",
            "ERROR: ld.so: object '/usr/lib/x86_64-linux-gnu/libtcmalloc_minimal.so.4.3.0' from LD_PRELOAD cannot be preloaded (cannot open shared object file): ignored.\n",
            "ERROR: ld.so: object '/usr/lib/x86_64-linux-gnu/libtcmalloc_minimal.so.4.3.0' from LD_PRELOAD cannot be preloaded (cannot open shared object file): ignored.\n",
            "ERROR: ld.so: object '/usr/lib/x86_64-linux-gnu/libtcmalloc_minimal.so.4.3.0' from LD_PRELOAD cannot be preloaded (cannot open shared object file): ignored.\n",
            "ERROR: ld.so: object '/usr/lib/x86_64-linux-gnu/libtcmalloc_minimal.so.4.3.0' from LD_PRELOAD cannot be preloaded (cannot open shared object file): ignored.\n",
            "/content/4.0.2\n",
            "ERROR: ld.so: object '/usr/lib/x86_64-linux-gnu/libtcmalloc_minimal.so.4.3.0' from LD_PRELOAD cannot be preloaded (cannot open shared object file): ignored.\n",
            "ERROR: ld.so: object '/usr/lib/x86_64-linux-gnu/libtcmalloc_minimal.so.4.3.0' from LD_PRELOAD cannot be preloaded (cannot open shared object file): ignored.\n",
            "Blender 4.0.2 (hash 9be62e85b727 built 2023-12-05 08:48:50)\n",
            "ERROR: ld.so: object '/usr/lib/x86_64-linux-gnu/libtcmalloc_minimal.so.4.3.0' from LD_PRELOAD cannot be preloaded (cannot open shared object file): ignored.\n",
            "Read blend: \"/content/render/core-bedroom-animation.blend\"\n",
            "OSError: Python file \"/content/4.0.2/setgpu.py\" could not be opened: No such file or directory\n",
            "Fra:109 Mem:49.18M (Peak 50.18M) | Time:00:00.27 | Mem:0.00M, Peak:0.00M | Scene, View Layer | Synchronizing object | Core Back\n",
            "Fra:109 Mem:53.03M (Peak 53.03M) | Time:00:00.27 | Mem:0.00M, Peak:0.00M | Scene, View Layer | Synchronizing object | EverythingElse1\n",
            "Fra:109 Mem:56.55M (Peak 56.59M) | Time:00:00.28 | Mem:0.00M, Peak:0.00M | Scene, View Layer | Synchronizing object | Objects1\n",
            "Fra:109 Mem:65.07M (Peak 77.34M) | Time:00:00.38 | Mem:0.00M, Peak:0.00M | Scene, View Layer | Initializing\n",
            "Fra:109 Mem:58.35M (Peak 77.34M) | Time:00:00.38 | Mem:0.00M, Peak:0.00M | Scene, View Layer | Updating Images | Loading WallsFloor_E.jpg.001\n",
            "Fra:109 Mem:58.35M (Peak 77.34M) | Time:00:00.38 | Mem:0.00M, Peak:0.00M | Scene, View Layer | Updating Images | Loading Plastic001_1K-JPG_Color.jpg.001\n",
            "Fra:109 Mem:78.37M (Peak 86.36M) | Time:00:00.42 | Mem:4.00M, Peak:4.00M | Scene, View Layer | Updating Images | Loading personality_sphere_lights03.jpg\n",
            "Fra:109 Mem:78.62M (Peak 86.36M) | Time:00:00.42 | Mem:4.25M, Peak:4.25M | Scene, View Layer | Updating Images | Loading Objects_D.jpg.001\n",
            "Fra:109 Mem:94.62M (Peak 126.63M) | Time:00:00.47 | Mem:20.25M, Peak:20.25M | Scene, View Layer | Updating Images | Loading WallsFloors_D.jpg.001\n",
            "Fra:109 Mem:110.62M (Peak 142.63M) | Time:00:00.54 | Mem:36.25M, Peak:36.25M | Scene, View Layer | Updating Images | Loading Objects_E.jpg\n",
            "Fra:109 Mem:121.83M (Peak 190.63M) | Time:00:00.63 | Mem:68.25M, Peak:68.25M | Scene, View Layer | Waiting for render to start\n",
            "Fra:109 Mem:121.83M (Peak 190.63M) | Time:00:00.63 | Mem:68.25M, Peak:68.25M | Scene, View Layer | Loading render kernels (may take a few minutes the first time)\n",
            "Fra:109 Mem:121.84M (Peak 190.63M) | Time:00:00.95 | Mem:68.27M, Peak:68.27M | Scene, View Layer | Updating Scene\n",
            "Fra:109 Mem:121.84M (Peak 190.63M) | Time:00:00.95 | Mem:68.27M, Peak:68.27M | Scene, View Layer | Updating Shaders\n",
            "Fra:109 Mem:121.93M (Peak 190.63M) | Time:00:00.95 | Mem:68.28M, Peak:68.28M | Scene, View Layer | Updating Procedurals\n",
            "Fra:109 Mem:121.93M (Peak 190.63M) | Time:00:00.95 | Mem:68.28M, Peak:68.28M | Scene, View Layer | Updating Background\n",
            "Fra:109 Mem:121.93M (Peak 190.63M) | Time:00:00.95 | Mem:68.28M, Peak:68.28M | Scene, View Layer | Updating Camera\n",
            "Fra:109 Mem:121.93M (Peak 190.63M) | Time:00:00.95 | Mem:68.28M, Peak:68.28M | Scene, View Layer | Updating Meshes Flags\n",
            "Fra:109 Mem:121.93M (Peak 190.63M) | Time:00:00.95 | Mem:68.28M, Peak:68.28M | Scene, View Layer | Updating Objects\n",
            "Fra:109 Mem:121.93M (Peak 190.63M) | Time:00:00.95 | Mem:68.28M, Peak:68.28M | Scene, View Layer | Updating Objects | Copying Transformations to device\n",
            "Fra:109 Mem:121.93M (Peak 190.63M) | Time:00:00.95 | Mem:68.28M, Peak:68.28M | Scene, View Layer | Updating Objects | Applying Static Transformations\n",
            "Fra:109 Mem:121.93M (Peak 190.63M) | Time:00:00.95 | Mem:68.28M, Peak:68.28M | Scene, View Layer | Updating Particle Systems\n",
            "Fra:109 Mem:121.93M (Peak 190.63M) | Time:00:00.95 | Mem:68.28M, Peak:68.28M | Scene, View Layer | Updating Particle Systems | Copying Particles to device\n",
            "Fra:109 Mem:121.93M (Peak 190.63M) | Time:00:00.95 | Mem:68.28M, Peak:68.28M | Scene, View Layer | Updating Meshes\n",
            "Fra:109 Mem:124.24M (Peak 190.63M) | Time:00:00.96 | Mem:68.28M, Peak:68.28M | Scene, View Layer | Updating Mesh | Computing attributes\n",
            "Fra:109 Mem:129.68M (Peak 190.63M) | Time:00:00.96 | Mem:68.28M, Peak:68.28M | Scene, View Layer | Updating Mesh | Copying Attributes to device\n",
            "Fra:109 Mem:129.68M (Peak 190.63M) | Time:00:00.96 | Mem:73.71M, Peak:73.71M | Scene, View Layer | Updating Geometry BVH Mesh.001 3/3 | Building BVH\n",
            "Fra:109 Mem:129.68M (Peak 190.63M) | Time:00:00.96 | Mem:73.71M, Peak:73.71M | Scene, View Layer | Updating Geometry BVH Mesh.001 3/3 | Building OptiX acceleration structure\n",
            "Fra:109 Mem:129.85M (Peak 190.63M) | Time:00:00.96 | Mem:74.38M, Peak:74.38M | Scene, View Layer | Updating Geometry BVH Cylinder.003 1/3 | Building BVH\n",
            "Fra:109 Mem:129.85M (Peak 190.63M) | Time:00:00.96 | Mem:74.38M, Peak:74.38M | Scene, View Layer | Updating Geometry BVH Cylinder.003 1/3 | Building OptiX acceleration structure\n",
            "Fra:109 Mem:132.69M (Peak 190.63M) | Time:00:00.96 | Mem:76.87M, Peak:77.32M | Scene, View Layer | Updating Geometry BVH Mesh 2/3 | Building BVH\n",
            "Fra:109 Mem:132.70M (Peak 190.63M) | Time:00:00.96 | Mem:77.97M, Peak:77.97M | Scene, View Layer | Updating Geometry BVH Mesh 2/3 | Building OptiX acceleration structure\n",
            "Fra:109 Mem:129.68M (Peak 190.63M) | Time:00:00.97 | Mem:77.22M, Peak:87.68M | Scene, View Layer | Updating Scene BVH | Building\n",
            "Fra:109 Mem:129.68M (Peak 190.63M) | Time:00:00.97 | Mem:77.22M, Peak:87.68M | Scene, View Layer | Updating Scene BVH | Building OptiX acceleration structure\n",
            "Fra:109 Mem:129.68M (Peak 190.63M) | Time:00:00.97 | Mem:77.22M, Peak:87.68M | Scene, View Layer | Updating Scene BVH | Copying BVH to device\n",
            "Fra:109 Mem:129.68M (Peak 190.63M) | Time:00:00.97 | Mem:77.22M, Peak:87.68M | Scene, View Layer | Updating Mesh | Computing normals\n",
            "Fra:109 Mem:136.03M (Peak 190.63M) | Time:00:00.97 | Mem:77.22M, Peak:87.68M | Scene, View Layer | Updating Mesh | Copying Mesh to device\n",
            "Fra:109 Mem:136.03M (Peak 190.63M) | Time:00:00.97 | Mem:83.57M, Peak:87.68M | Scene, View Layer | Updating Objects Flags\n",
            "Fra:109 Mem:136.03M (Peak 190.63M) | Time:00:00.97 | Mem:83.57M, Peak:87.68M | Scene, View Layer | Updating Primitive Offsets\n",
            "Fra:109 Mem:136.03M (Peak 190.63M) | Time:00:00.97 | Mem:83.57M, Peak:87.68M | Scene, View Layer | Updating Images\n",
            "Fra:109 Mem:136.03M (Peak 190.63M) | Time:00:00.97 | Mem:83.57M, Peak:87.68M | Scene, View Layer | Updating Camera Volume\n",
            "Fra:109 Mem:136.03M (Peak 190.63M) | Time:00:00.97 | Mem:83.57M, Peak:87.68M | Scene, View Layer | Updating Lookup Tables\n",
            "Fra:109 Mem:136.03M (Peak 190.63M) | Time:00:00.98 | Mem:83.65M, Peak:87.68M | Scene, View Layer | Updating Lights\n",
            "Fra:109 Mem:136.03M (Peak 190.63M) | Time:00:00.98 | Mem:83.66M, Peak:87.68M | Scene, View Layer | Updating Lights | Computing distribution\n",
            "Fra:109 Mem:136.25M (Peak 190.63M) | Time:00:00.98 | Mem:83.88M, Peak:87.68M | Scene, View Layer | Updating Integrator\n",
            "Fra:109 Mem:140.25M (Peak 190.63M) | Time:00:00.98 | Mem:87.88M, Peak:87.88M | Scene, View Layer | Updating Film\n",
            "Fra:109 Mem:140.26M (Peak 190.63M) | Time:00:00.98 | Mem:87.80M, Peak:87.88M | Scene, View Layer | Updating Lookup Tables\n",
            "Fra:109 Mem:140.26M (Peak 190.63M) | Time:00:00.98 | Mem:87.88M, Peak:87.88M | Scene, View Layer | Updating Baking\n",
            "Fra:109 Mem:140.26M (Peak 190.63M) | Time:00:00.98 | Mem:87.88M, Peak:87.88M | Scene, View Layer | Updating Device | Writing constant memory\n",
            "Fra:109 Mem:144.26M (Peak 190.63M) | Time:00:00.99 | Mem:415.89M, Peak:415.89M | Scene, View Layer | Sample 0/1024\n",
            "Fra:109 Mem:166.51M (Peak 190.63M) | Time:00:01.13 | Remaining:02:24.89 | Mem:438.13M, Peak:438.13M | Scene, View Layer | Sample 1/1024\n",
            "Fra:109 Mem:166.53M (Peak 190.63M) | Time:00:25.72 | Remaining:01:13.81 | Mem:438.15M, Peak:438.15M | Scene, View Layer | Sample 257/1024\n",
            "Fra:109 Mem:166.53M (Peak 190.63M) | Time:00:50.34 | Remaining:00:49.15 | Mem:438.15M, Peak:438.15M | Scene, View Layer | Sample 513/1024\n",
            "Fra:109 Mem:166.53M (Peak 190.63M) | Time:01:15.07 | Remaining:00:24.56 | Mem:438.15M, Peak:438.15M | Scene, View Layer | Sample 769/1024\n",
            "Fra:109 Mem:188.78M (Peak 228.83M) | Time:01:39.79 | Mem:438.15M, Peak:438.15M | Scene, View Layer | Sample 1024/1024\n",
            "Fra:109 Mem:188.78M (Peak 228.83M) | Time:01:39.79 | Mem:438.15M, Peak:438.15M | Scene, View Layer | Finished\n",
            "Fra:109 Mem:63.87M (Peak 228.83M) | Time:01:39.90 | Compositing\n",
            "Fra:109 Mem:63.87M (Peak 228.83M) | Time:01:39.90 | Compositing | Determining resolution\n",
            "Fra:109 Mem:63.87M (Peak 228.83M) | Time:01:39.90 | Compositing | Initializing execution\n",
            "Fra:109 Mem:95.08M (Peak 228.83M) | Time:01:41.78 | Compositing | Tile 1-25\n",
            "Fra:109 Mem:95.08M (Peak 228.83M) | Time:01:41.79 | Compositing | Tile 2-25\n",
            "Fra:109 Mem:95.08M (Peak 228.83M) | Time:01:41.81 | Compositing | Tile 3-25\n",
            "Fra:109 Mem:95.08M (Peak 228.83M) | Time:01:41.82 | Compositing | Tile 4-25\n",
            "Fra:109 Mem:95.08M (Peak 228.83M) | Time:01:41.82 | Compositing | Tile 5-25\n",
            "Fra:109 Mem:95.08M (Peak 228.83M) | Time:01:41.83 | Compositing | Tile 6-25\n",
            "Fra:109 Mem:95.08M (Peak 228.83M) | Time:01:41.84 | Compositing | Tile 7-25\n",
            "Fra:109 Mem:95.08M (Peak 228.83M) | Time:01:41.85 | Compositing | Tile 8-25\n",
            "Fra:109 Mem:95.08M (Peak 228.83M) | Time:01:41.86 | Compositing | Tile 10-25\n",
            "Fra:109 Mem:95.08M (Peak 228.83M) | Time:01:41.86 | Compositing | Tile 11-25\n",
            "Fra:109 Mem:95.08M (Peak 228.83M) | Time:01:41.86 | Compositing | Tile 12-25\n",
            "Fra:109 Mem:95.08M (Peak 228.83M) | Time:01:41.86 | Compositing | Tile 9-25\n",
            "Fra:109 Mem:95.08M (Peak 228.83M) | Time:01:41.87 | Compositing | Tile 13-25\n",
            "Fra:109 Mem:95.08M (Peak 228.83M) | Time:01:41.88 | Compositing | Tile 14-25\n",
            "Fra:109 Mem:95.08M (Peak 228.83M) | Time:01:41.89 | Compositing | Tile 16-25\n",
            "Fra:109 Mem:95.08M (Peak 228.83M) | Time:01:41.89 | Compositing | Tile 15-25\n",
            "Fra:109 Mem:95.08M (Peak 228.83M) | Time:01:41.90 | Compositing | Tile 17-25\n",
            "Fra:109 Mem:95.08M (Peak 228.83M) | Time:01:41.91 | Compositing | Tile 18-25\n",
            "Fra:109 Mem:95.08M (Peak 228.83M) | Time:01:41.91 | Compositing | Tile 19-25\n",
            "Fra:109 Mem:95.08M (Peak 228.83M) | Time:01:41.92 | Compositing | Tile 20-25\n",
            "Fra:109 Mem:95.08M (Peak 228.83M) | Time:01:41.93 | Compositing | Tile 21-25\n",
            "Fra:109 Mem:95.08M (Peak 228.83M) | Time:01:41.93 | Compositing | Tile 23-25\n",
            "Fra:109 Mem:95.08M (Peak 228.83M) | Time:01:41.93 | Compositing | Tile 22-25\n",
            "Fra:109 Mem:95.08M (Peak 228.83M) | Time:01:41.94 | Compositing | Tile 24-25\n",
            "Fra:109 Mem:95.08M (Peak 228.83M) | Time:01:41.96 | Compositing | Tile 25-25\n",
            "Fra:109 Mem:95.02M (Peak 228.83M) | Time:01:41.96 | Compositing | De-initializing execution\n",
            "Saved: '/drive/My Drive/blender/core/core-bedroom-animation/output/blender-109.png'\n",
            "Time: 01:42.36 (Saving: 00:00.39)\n",
            "\n",
            "Fra:110 Mem:53.13M (Peak 228.83M) | Time:00:00.32 | Mem:0.00M, Peak:0.00M | Scene, View Layer | Synchronizing object | Core Back\n",
            "Fra:110 Mem:56.98M (Peak 228.83M) | Time:00:00.32 | Mem:0.00M, Peak:0.00M | Scene, View Layer | Synchronizing object | EverythingElse1\n",
            "Fra:110 Mem:57.93M (Peak 228.83M) | Time:00:00.34 | Mem:0.00M, Peak:0.00M | Scene, View Layer | Synchronizing object | Objects1\n",
            "Fra:110 Mem:65.08M (Peak 228.83M) | Time:00:00.50 | Mem:0.00M, Peak:0.00M | Scene, View Layer | Initializing\n",
            "Fra:110 Mem:58.36M (Peak 228.83M) | Time:00:00.50 | Mem:0.00M, Peak:0.00M | Scene, View Layer | Updating Images | Loading WallsFloor_E.jpg.001\n",
            "Fra:110 Mem:74.36M (Peak 228.83M) | Time:00:00.51 | Mem:0.00M, Peak:0.00M | Scene, View Layer | Updating Images | Loading Plastic001_1K-JPG_Color.jpg.001\n",
            "Fra:110 Mem:78.37M (Peak 228.83M) | Time:00:00.57 | Mem:4.00M, Peak:4.00M | Scene, View Layer | Updating Images | Loading personality_sphere_lights03.jpg\n",
            "Fra:110 Mem:110.63M (Peak 228.83M) | Time:00:00.58 | Mem:4.25M, Peak:4.25M | Scene, View Layer | Updating Images | Loading Objects_D.jpg.001\n",
            "Fra:110 Mem:94.62M (Peak 228.83M) | Time:00:00.68 | Mem:20.25M, Peak:20.25M | Scene, View Layer | Updating Images | Loading WallsFloors_D.jpg.001\n",
            "Fra:110 Mem:142.63M (Peak 228.83M) | Time:00:00.85 | Mem:36.25M, Peak:36.25M | Scene, View Layer | Updating Images | Loading Objects_E.jpg\n",
            "Fra:110 Mem:121.84M (Peak 228.83M) | Time:00:01.01 | Mem:68.25M, Peak:68.25M | Scene, View Layer | Waiting for render to start\n",
            "Fra:110 Mem:121.84M (Peak 228.83M) | Time:00:01.01 | Mem:68.25M, Peak:68.25M | Scene, View Layer | Loading render kernels (may take a few minutes the first time)\n",
            "Fra:110 Mem:121.84M (Peak 228.83M) | Time:00:01.51 | Mem:68.27M, Peak:68.27M | Scene, View Layer | Updating Scene\n",
            "Fra:110 Mem:121.84M (Peak 228.83M) | Time:00:01.51 | Mem:68.27M, Peak:68.27M | Scene, View Layer | Updating Shaders\n",
            "Fra:110 Mem:121.93M (Peak 228.83M) | Time:00:01.51 | Mem:68.28M, Peak:68.28M | Scene, View Layer | Updating Procedurals\n",
            "Fra:110 Mem:121.93M (Peak 228.83M) | Time:00:01.51 | Mem:68.28M, Peak:68.28M | Scene, View Layer | Updating Background\n",
            "Fra:110 Mem:121.93M (Peak 228.83M) | Time:00:01.51 | Mem:68.28M, Peak:68.28M | Scene, View Layer | Updating Camera\n",
            "Fra:110 Mem:121.93M (Peak 228.83M) | Time:00:01.51 | Mem:68.28M, Peak:68.28M | Scene, View Layer | Updating Meshes Flags\n",
            "Fra:110 Mem:121.93M (Peak 228.83M) | Time:00:01.51 | Mem:68.28M, Peak:68.28M | Scene, View Layer | Updating Objects\n",
            "Fra:110 Mem:121.93M (Peak 228.83M) | Time:00:01.51 | Mem:68.28M, Peak:68.28M | Scene, View Layer | Updating Objects | Copying Transformations to device\n",
            "Fra:110 Mem:121.93M (Peak 228.83M) | Time:00:01.51 | Mem:68.28M, Peak:68.28M | Scene, View Layer | Updating Objects | Applying Static Transformations\n",
            "Fra:110 Mem:121.93M (Peak 228.83M) | Time:00:01.51 | Mem:68.28M, Peak:68.28M | Scene, View Layer | Updating Particle Systems\n",
            "Fra:110 Mem:121.93M (Peak 228.83M) | Time:00:01.51 | Mem:68.28M, Peak:68.28M | Scene, View Layer | Updating Particle Systems | Copying Particles to device\n",
            "Fra:110 Mem:121.93M (Peak 228.83M) | Time:00:01.51 | Mem:68.28M, Peak:68.28M | Scene, View Layer | Updating Meshes\n",
            "Fra:110 Mem:124.25M (Peak 228.83M) | Time:00:01.52 | Mem:68.28M, Peak:68.28M | Scene, View Layer | Updating Mesh | Computing attributes\n",
            "Fra:110 Mem:129.68M (Peak 228.83M) | Time:00:01.53 | Mem:68.28M, Peak:68.28M | Scene, View Layer | Updating Mesh | Copying Attributes to device\n",
            "Fra:110 Mem:129.68M (Peak 228.83M) | Time:00:01.53 | Mem:73.71M, Peak:73.71M | Scene, View Layer | Updating Geometry BVH Cylinder.003 1/3 | Building BVH\n",
            "Fra:110 Mem:129.68M (Peak 228.83M) | Time:00:01.53 | Mem:73.71M, Peak:73.71M | Scene, View Layer | Updating Geometry BVH Cylinder.003 1/3 | Building OptiX acceleration structure\n",
            "Fra:110 Mem:131.25M (Peak 228.83M) | Time:00:01.53 | Mem:78.42M, Peak:87.27M | Scene, View Layer | Updating Geometry BVH Mesh.001 3/3 | Building BVH\n",
            "Fra:110 Mem:131.25M (Peak 228.83M) | Time:00:01.53 | Mem:78.42M, Peak:87.27M | Scene, View Layer | Updating Geometry BVH Mesh.001 3/3 | Building OptiX acceleration structure\n",
            "Fra:110 Mem:129.86M (Peak 228.83M) | Time:00:01.54 | Mem:76.85M, Peak:87.27M | Scene, View Layer | Updating Geometry BVH Mesh 2/3 | Building BVH\n",
            "Fra:110 Mem:129.68M (Peak 228.83M) | Time:00:01.54 | Mem:76.99M, Peak:87.27M | Scene, View Layer | Updating Geometry BVH Mesh 2/3 | Building OptiX acceleration structure\n",
            "Fra:110 Mem:129.68M (Peak 228.83M) | Time:00:01.54 | Mem:77.22M, Peak:87.27M | Scene, View Layer | Updating Scene BVH | Building\n",
            "Fra:110 Mem:129.68M (Peak 228.83M) | Time:00:01.54 | Mem:77.22M, Peak:87.27M | Scene, View Layer | Updating Scene BVH | Building OptiX acceleration structure\n",
            "Fra:110 Mem:129.68M (Peak 228.83M) | Time:00:01.54 | Mem:77.22M, Peak:87.27M | Scene, View Layer | Updating Scene BVH | Copying BVH to device\n",
            "Fra:110 Mem:129.68M (Peak 228.83M) | Time:00:01.54 | Mem:77.22M, Peak:87.27M | Scene, View Layer | Updating Mesh | Computing normals\n",
            "Fra:110 Mem:136.03M (Peak 228.83M) | Time:00:01.54 | Mem:77.22M, Peak:87.27M | Scene, View Layer | Updating Mesh | Copying Mesh to device\n",
            "Fra:110 Mem:136.03M (Peak 228.83M) | Time:00:01.55 | Mem:83.57M, Peak:87.27M | Scene, View Layer | Updating Objects Flags\n",
            "Fra:110 Mem:136.03M (Peak 228.83M) | Time:00:01.55 | Mem:83.57M, Peak:87.27M | Scene, View Layer | Updating Primitive Offsets\n",
            "Fra:110 Mem:136.03M (Peak 228.83M) | Time:00:01.55 | Mem:83.57M, Peak:87.27M | Scene, View Layer | Updating Images\n",
            "Fra:110 Mem:136.03M (Peak 228.83M) | Time:00:01.55 | Mem:83.57M, Peak:87.27M | Scene, View Layer | Updating Camera Volume\n",
            "Fra:110 Mem:136.03M (Peak 228.83M) | Time:00:01.55 | Mem:83.57M, Peak:87.27M | Scene, View Layer | Updating Lookup Tables\n",
            "Fra:110 Mem:136.03M (Peak 228.83M) | Time:00:01.55 | Mem:83.65M, Peak:87.27M | Scene, View Layer | Updating Lights\n",
            "Fra:110 Mem:136.03M (Peak 228.83M) | Time:00:01.55 | Mem:83.66M, Peak:87.27M | Scene, View Layer | Updating Lights | Computing distribution\n",
            "Fra:110 Mem:136.26M (Peak 228.83M) | Time:00:01.55 | Mem:83.88M, Peak:87.27M | Scene, View Layer | Updating Integrator\n",
            "Fra:110 Mem:140.26M (Peak 228.83M) | Time:00:01.57 | Mem:87.88M, Peak:87.88M | Scene, View Layer | Updating Film\n",
            "Fra:110 Mem:140.26M (Peak 228.83M) | Time:00:01.57 | Mem:87.80M, Peak:87.88M | Scene, View Layer | Updating Lookup Tables\n",
            "Fra:110 Mem:140.26M (Peak 228.83M) | Time:00:01.57 | Mem:87.88M, Peak:87.88M | Scene, View Layer | Updating Baking\n",
            "Fra:110 Mem:140.26M (Peak 228.83M) | Time:00:01.57 | Mem:87.88M, Peak:87.88M | Scene, View Layer | Updating Device | Writing constant memory\n",
            "Fra:110 Mem:144.26M (Peak 228.83M) | Time:00:01.58 | Mem:415.89M, Peak:415.89M | Scene, View Layer | Sample 0/1024\n",
            "Fra:110 Mem:166.51M (Peak 228.83M) | Time:00:01.72 | Remaining:02:26.90 | Mem:438.13M, Peak:438.13M | Scene, View Layer | Sample 1/1024\n",
            "\n",
            "Sent an internal break event. Press ^C again to kill Blender\n",
            "\n",
            "Blender killed\n",
            "Driver deinitialized in cuCtxPopCurrent(NULL) (intern/cycles/device/cuda/util.cpp:19)\n",
            "\n",
            "Refer to the Cycles GPU rendering documentation for possible solutions:\n",
            "https://docs.blender.org/manual/en/latest/render/cycles/gpu_rendering.html\n",
            "\n",
            "Driver deinitialized in cuCtxPushCurrent(device->cuContext) (intern/cycles/device/cuda/util.cpp:14)\n",
            "Driver deinitialized in CUDA queue copy_from_device (integrator_init_from_bake integrator_shade_surface_raytrace integrator_sorted_paths_array)\n",
            "Driver deinitialized in cuCtxPopCurrent(NULL) (intern/cycles/device/cuda/util.cpp:19)\n",
            "Fra:110 Mem:164.52M (Peak 228.83M) | Time:00:12.00 | Remaining:00:31.10 | Mem:438.14M, Peak:438.14M | Scene, View Layer | Sample 257/1024\n",
            "Fra:110 Mem:164.52M (Peak 228.83M) | Time:00:12.00 | Remaining:00:31.10 | Mem:438.14M, Peak:438.14M | Scene, View Layer | Driver deinitialized in cuCtxPopCurrent(NULL) (intern/cycles/device/cuda/util.cpp:19)\n",
            "Error: Driver deinitialized in cuCtxPopCurrent(NULL) (intern/cycles/device/cuda/util.cpp:19)\n"
          ]
        }
      ],
      "source": [
        "%cd /content\n",
        "\n",
        "!rm -r output\n",
        "!mkdir output\n",
        "\n",
        "if not drive_output_path.endswith('/'):\n",
        "    drive_output_path += '/'\n",
        "\n",
        "if download_type != 'gdrive_direct':\n",
        "    output_path = '/content/output/' + output_name\n",
        "else:\n",
        "    output_path = '/drive/My Drive/' + drive_output_path + output_name\n",
        "\n",
        "%cd /content/$blender_version\n",
        "\n",
        "if animation:\n",
        "    if start_frame == end_frame:\n",
        "        !./$blender_version/blender -b '/content/render/{blend_file_path}' -P setgpu.py -E CYCLES -o '{output_path}' -noaudio -a -- --cycles-device \"{renderer}\"\n",
        "    else:\n",
        "        !./$blender_version/blender -b '/content/render/{blend_file_path}' -P setgpu.py -E CYCLES -o '{output_path}' -noaudio -s $start_frame -e $end_frame -a -- --cycles-device \"{renderer}\"\n",
        "else:\n",
        "    !./$blender_version/blender -b '/content/render/{blend_file_path}' -P setgpu.py -E CYCLES -o '{output_path}' -noaudio -f $start_frame -- --cycles-device \"{renderer}\""
      ]
    },
    {
      "cell_type": "code",
      "execution_count": 9,
      "metadata": {
        "id": "IjN_CFwEIB6f",
        "outputId": "f37d18a7-44fb-403b-f8cb-1d24bbf3eb95",
        "colab": {
          "base_uri": "https://localhost:8080/"
        }
      },
      "outputs": [
        {
          "output_type": "stream",
          "name": "stdout",
          "text": [
            "/content\n"
          ]
        }
      ],
      "source": [
        "%cd /content\n",
        "\n",
        "path, dirs, files_folder = next(os.walk(\"output\"))\n",
        "output_folder_name = output_name.replace('#', '') + 'render'\n",
        "\n",
        "if download_type == 'gdrive_direct':\n",
        "    pass\n",
        "elif len(files_folder) == 1:\n",
        "    render_img = 'output/' + files_folder[0]\n",
        "    if download_type == 'direct':\n",
        "        files.download('output/' + files_folder[0])\n",
        "    else:\n",
        "        shutil.copy('/content/' + render_img, '/drive/My Drive/' + drive_output_path)\n",
        "elif len(files_folder) > 1:\n",
        "    if zip_files:\n",
        "        shutil.make_archive(output_folder_name, 'zip', 'output')\n",
        "    if download_type == 'direct':\n",
        "        files.download(output_folder_name + '.zip')\n",
        "    else:\n",
        "        shutil.copy('/content/' + output_folder_name + \".zip\", '/drive/My Drive/' + drive_output_path)\n",
        "elif download_type == 'direct':\n",
        "    for f in files_folder:\n",
        "        files.download('output/{}'.format(f))\n",
        "    # Drive, no zip\n",
        "    else:\n",
        "        for f in files_folder:\n",
        "          shutil.copy(\"/content/output/\" + f, '/drive/My Drive/' + drive_output_path + f)\n",
        "else:\n",
        "    raise SystemExit(\"No frames are rendered.\")"
      ]
    },
    {
      "cell_type": "markdown",
      "metadata": {
        "id": "IeNhVz4Uds_7"
      },
      "source": [
        "## Disclaimer\n",
        "Google Colab is targeted to researchers and students to run AI/ML tasks, data analysis and education, not rendering 3D scenes. Because the computing power provided are free, the usage limits, idle timeouts and speed of the rendering may varies time by time. [Colab Pro and Colab Pro+](https://colab.research.google.com/signup) are available for those who wanted to have more powerful GPU and longer runtimes for rendering. See the [FAQ](https://research.google.com/colaboratory/faq.html) for more info. In some cases, it might be faster to use an online Blender renderfarm.\n",
        "\n",
        "## License\n",
        "```\n",
        "MIT License\n",
        "\n",
        "Copyright (c) 2020-2022 ynshung\n",
        "\n",
        "Permission is hereby granted, free of charge, to any person obtaining a copy\n",
        "of this software and associated documentation files (the \"Software\"), to deal\n",
        "in the Software without restriction, including without limitation the rights\n",
        "to use, copy, modify, merge, publish, distribute, sublicense, and/or sell\n",
        "copies of the Software, and to permit persons to whom the Software is\n",
        "furnished to do so, subject to the following conditions:\n",
        "\n",
        "The above copyright notice and this permission notice shall be included in all\n",
        "copies or substantial portions of the Software.\n",
        "\n",
        "THE SOFTWARE IS PROVIDED \"AS IS\", WITHOUT WARRANTY OF ANY KIND, EXPRESS OR\n",
        "IMPLIED, INCLUDING BUT NOT LIMITED TO THE WARRANTIES OF MERCHANTABILITY,\n",
        "FITNESS FOR A PARTICULAR PURPOSE AND NONINFRINGEMENT. IN NO EVENT SHALL THE\n",
        "AUTHORS OR COPYRIGHT HOLDERS BE LIABLE FOR ANY CLAIM, DAMAGES OR OTHER\n",
        "LIABILITY, WHETHER IN AN ACTION OF CONTRACT, TORT OR OTHERWISE, ARISING FROM,\n",
        "OUT OF OR IN CONNECTION WITH THE SOFTWARE OR THE USE OR OTHER DEALINGS IN THE\n",
        "SOFTWARE.\n",
        "```"
      ]
    }
  ],
  "metadata": {
    "accelerator": "GPU",
    "colab": {
      "provenance": []
    },
    "kernelspec": {
      "display_name": "Python 3",
      "language": "python",
      "name": "python3"
    },
    "language_info": {
      "codemirror_mode": {
        "name": "ipython",
        "version": 3
      },
      "file_extension": ".py",
      "mimetype": "text/x-python",
      "name": "python",
      "nbconvert_exporter": "python",
      "pygments_lexer": "ipython3",
      "version": "3.7.4"
    }
  },
  "nbformat": 4,
  "nbformat_minor": 0
}